{
  "nbformat": 4,
  "nbformat_minor": 0,
  "metadata": {
    "colab": {
      "name": "MovieRatingPredictor.ipynb",
      "provenance": [],
      "collapsed_sections": []
    },
    "kernelspec": {
      "display_name": "Python 3",
      "name": "python3"
    },
    "language_info": {
      "name": "python"
    }
  },
  "cells": [
    {
      "cell_type": "code",
      "metadata": {
        "id": "eetUJDmuuQEp"
      },
      "source": [
        "import numpy as np\n",
        "import pandas as pd\n",
        "import matplotlib.pyplot as plt\n",
        "import seaborn as sns\n",
        "import sklearn as sk\n",
        "# from sklearn_pandas as skpd"
      ],
      "execution_count": null,
      "outputs": []
    },
    {
      "cell_type": "code",
      "metadata": {
        "colab": {
          "base_uri": "https://localhost:8080/"
        },
        "id": "IOC6EclM5PVA",
        "outputId": "1dac90b2-256b-4152-aec7-7728fda18d4b"
      },
      "source": [
        "from google.colab import drive\n",
        "drive.mount('/content/drive')"
      ],
      "execution_count": null,
      "outputs": [
        {
          "output_type": "stream",
          "name": "stdout",
          "text": [
            "Mounted at /content/drive\n"
          ]
        }
      ]
    },
    {
      "cell_type": "markdown",
      "metadata": {
        "id": "0A_sNWJBuJ-h"
      },
      "source": [
        "**The following dataset contain the IMDb rating and votes information for titles**"
      ]
    },
    {
      "cell_type": "code",
      "metadata": {
        "id": "bd6GxRDp6Leq"
      },
      "source": [
        "rating = pd.read_csv('/content/drive/MyDrive/title.ratings.tsv/data.tsv', sep='\\t')"
      ],
      "execution_count": null,
      "outputs": []
    },
    {
      "cell_type": "code",
      "metadata": {
        "colab": {
          "base_uri": "https://localhost:8080/",
          "height": 417
        },
        "id": "MskHdgSWu5Q_",
        "outputId": "c8f15113-c3ec-46db-e9ea-c4ef7dad7e2c"
      },
      "source": [
        "rating"
      ],
      "execution_count": null,
      "outputs": [
        {
          "output_type": "execute_result",
          "data": {
            "text/html": [
              "<div>\n",
              "<style scoped>\n",
              "    .dataframe tbody tr th:only-of-type {\n",
              "        vertical-align: middle;\n",
              "    }\n",
              "\n",
              "    .dataframe tbody tr th {\n",
              "        vertical-align: top;\n",
              "    }\n",
              "\n",
              "    .dataframe thead th {\n",
              "        text-align: right;\n",
              "    }\n",
              "</style>\n",
              "<table border=\"1\" class=\"dataframe\">\n",
              "  <thead>\n",
              "    <tr style=\"text-align: right;\">\n",
              "      <th></th>\n",
              "      <th>tconst</th>\n",
              "      <th>averageRating</th>\n",
              "      <th>numVotes</th>\n",
              "    </tr>\n",
              "  </thead>\n",
              "  <tbody>\n",
              "    <tr>\n",
              "      <th>0</th>\n",
              "      <td>tt0000001</td>\n",
              "      <td>5.7</td>\n",
              "      <td>1834</td>\n",
              "    </tr>\n",
              "    <tr>\n",
              "      <th>1</th>\n",
              "      <td>tt0000002</td>\n",
              "      <td>6.0</td>\n",
              "      <td>236</td>\n",
              "    </tr>\n",
              "    <tr>\n",
              "      <th>2</th>\n",
              "      <td>tt0000003</td>\n",
              "      <td>6.5</td>\n",
              "      <td>1593</td>\n",
              "    </tr>\n",
              "    <tr>\n",
              "      <th>3</th>\n",
              "      <td>tt0000004</td>\n",
              "      <td>6.0</td>\n",
              "      <td>153</td>\n",
              "    </tr>\n",
              "    <tr>\n",
              "      <th>4</th>\n",
              "      <td>tt0000005</td>\n",
              "      <td>6.2</td>\n",
              "      <td>2410</td>\n",
              "    </tr>\n",
              "    <tr>\n",
              "      <th>...</th>\n",
              "      <td>...</td>\n",
              "      <td>...</td>\n",
              "      <td>...</td>\n",
              "    </tr>\n",
              "    <tr>\n",
              "      <th>1201143</th>\n",
              "      <td>tt9916682</td>\n",
              "      <td>5.6</td>\n",
              "      <td>5</td>\n",
              "    </tr>\n",
              "    <tr>\n",
              "      <th>1201144</th>\n",
              "      <td>tt9916690</td>\n",
              "      <td>6.6</td>\n",
              "      <td>5</td>\n",
              "    </tr>\n",
              "    <tr>\n",
              "      <th>1201145</th>\n",
              "      <td>tt9916720</td>\n",
              "      <td>5.2</td>\n",
              "      <td>147</td>\n",
              "    </tr>\n",
              "    <tr>\n",
              "      <th>1201146</th>\n",
              "      <td>tt9916766</td>\n",
              "      <td>7.1</td>\n",
              "      <td>17</td>\n",
              "    </tr>\n",
              "    <tr>\n",
              "      <th>1201147</th>\n",
              "      <td>tt9916778</td>\n",
              "      <td>7.4</td>\n",
              "      <td>32</td>\n",
              "    </tr>\n",
              "  </tbody>\n",
              "</table>\n",
              "<p>1201148 rows × 3 columns</p>\n",
              "</div>"
            ],
            "text/plain": [
              "            tconst  averageRating  numVotes\n",
              "0        tt0000001            5.7      1834\n",
              "1        tt0000002            6.0       236\n",
              "2        tt0000003            6.5      1593\n",
              "3        tt0000004            6.0       153\n",
              "4        tt0000005            6.2      2410\n",
              "...            ...            ...       ...\n",
              "1201143  tt9916682            5.6         5\n",
              "1201144  tt9916690            6.6         5\n",
              "1201145  tt9916720            5.2       147\n",
              "1201146  tt9916766            7.1        17\n",
              "1201147  tt9916778            7.4        32\n",
              "\n",
              "[1201148 rows x 3 columns]"
            ]
          },
          "metadata": {},
          "execution_count": 82
        }
      ]
    },
    {
      "cell_type": "markdown",
      "metadata": {
        "id": "I-Ja4YWhuiDe"
      },
      "source": [
        "**The following dataset contains the following information for titles. It contains a critical imformation that we requires that is genres**:"
      ]
    },
    {
      "cell_type": "code",
      "metadata": {
        "colab": {
          "base_uri": "https://localhost:8080/"
        },
        "id": "-zaCTr966uN9",
        "outputId": "dadf7770-942c-44de-9c72-ebae892cf55d"
      },
      "source": [
        "genre=pd.read_csv('/content/drive/MyDrive/title.basics.tsv/data.tsv', sep='\\t')"
      ],
      "execution_count": null,
      "outputs": [
        {
          "output_type": "stream",
          "name": "stderr",
          "text": [
            "/usr/local/lib/python3.7/dist-packages/IPython/core/interactiveshell.py:2718: DtypeWarning: Columns (4,5) have mixed types.Specify dtype option on import or set low_memory=False.\n",
            "  interactivity=interactivity, compiler=compiler, result=result)\n"
          ]
        }
      ]
    },
    {
      "cell_type": "code",
      "metadata": {
        "colab": {
          "base_uri": "https://localhost:8080/",
          "height": 417
        },
        "id": "ouVicj7T9Q_y",
        "outputId": "5b39cf08-f25d-4b48-f854-5a15990a4ca0"
      },
      "source": [
        "genre"
      ],
      "execution_count": null,
      "outputs": [
        {
          "output_type": "execute_result",
          "data": {
            "text/html": [
              "<div>\n",
              "<style scoped>\n",
              "    .dataframe tbody tr th:only-of-type {\n",
              "        vertical-align: middle;\n",
              "    }\n",
              "\n",
              "    .dataframe tbody tr th {\n",
              "        vertical-align: top;\n",
              "    }\n",
              "\n",
              "    .dataframe thead th {\n",
              "        text-align: right;\n",
              "    }\n",
              "</style>\n",
              "<table border=\"1\" class=\"dataframe\">\n",
              "  <thead>\n",
              "    <tr style=\"text-align: right;\">\n",
              "      <th></th>\n",
              "      <th>tconst</th>\n",
              "      <th>titleType</th>\n",
              "      <th>primaryTitle</th>\n",
              "      <th>originalTitle</th>\n",
              "      <th>isAdult</th>\n",
              "      <th>startYear</th>\n",
              "      <th>endYear</th>\n",
              "      <th>runtimeMinutes</th>\n",
              "      <th>genres</th>\n",
              "    </tr>\n",
              "  </thead>\n",
              "  <tbody>\n",
              "    <tr>\n",
              "      <th>0</th>\n",
              "      <td>tt0000001</td>\n",
              "      <td>short</td>\n",
              "      <td>Carmencita</td>\n",
              "      <td>Carmencita</td>\n",
              "      <td>0</td>\n",
              "      <td>1894</td>\n",
              "      <td>\\N</td>\n",
              "      <td>1</td>\n",
              "      <td>Documentary,Short</td>\n",
              "    </tr>\n",
              "    <tr>\n",
              "      <th>1</th>\n",
              "      <td>tt0000002</td>\n",
              "      <td>short</td>\n",
              "      <td>Le clown et ses chiens</td>\n",
              "      <td>Le clown et ses chiens</td>\n",
              "      <td>0</td>\n",
              "      <td>1892</td>\n",
              "      <td>\\N</td>\n",
              "      <td>5</td>\n",
              "      <td>Animation,Short</td>\n",
              "    </tr>\n",
              "    <tr>\n",
              "      <th>2</th>\n",
              "      <td>tt0000003</td>\n",
              "      <td>short</td>\n",
              "      <td>Pauvre Pierrot</td>\n",
              "      <td>Pauvre Pierrot</td>\n",
              "      <td>0</td>\n",
              "      <td>1892</td>\n",
              "      <td>\\N</td>\n",
              "      <td>4</td>\n",
              "      <td>Animation,Comedy,Romance</td>\n",
              "    </tr>\n",
              "    <tr>\n",
              "      <th>3</th>\n",
              "      <td>tt0000004</td>\n",
              "      <td>short</td>\n",
              "      <td>Un bon bock</td>\n",
              "      <td>Un bon bock</td>\n",
              "      <td>0</td>\n",
              "      <td>1892</td>\n",
              "      <td>\\N</td>\n",
              "      <td>12</td>\n",
              "      <td>Animation,Short</td>\n",
              "    </tr>\n",
              "    <tr>\n",
              "      <th>4</th>\n",
              "      <td>tt0000005</td>\n",
              "      <td>short</td>\n",
              "      <td>Blacksmith Scene</td>\n",
              "      <td>Blacksmith Scene</td>\n",
              "      <td>0</td>\n",
              "      <td>1893</td>\n",
              "      <td>\\N</td>\n",
              "      <td>1</td>\n",
              "      <td>Comedy,Short</td>\n",
              "    </tr>\n",
              "    <tr>\n",
              "      <th>...</th>\n",
              "      <td>...</td>\n",
              "      <td>...</td>\n",
              "      <td>...</td>\n",
              "      <td>...</td>\n",
              "      <td>...</td>\n",
              "      <td>...</td>\n",
              "      <td>...</td>\n",
              "      <td>...</td>\n",
              "      <td>...</td>\n",
              "    </tr>\n",
              "    <tr>\n",
              "      <th>8411465</th>\n",
              "      <td>tt9916848</td>\n",
              "      <td>tvEpisode</td>\n",
              "      <td>Episode #3.17</td>\n",
              "      <td>Episode #3.17</td>\n",
              "      <td>0</td>\n",
              "      <td>2010</td>\n",
              "      <td>\\N</td>\n",
              "      <td>\\N</td>\n",
              "      <td>Action,Drama,Family</td>\n",
              "    </tr>\n",
              "    <tr>\n",
              "      <th>8411466</th>\n",
              "      <td>tt9916850</td>\n",
              "      <td>tvEpisode</td>\n",
              "      <td>Episode #3.19</td>\n",
              "      <td>Episode #3.19</td>\n",
              "      <td>0</td>\n",
              "      <td>2010</td>\n",
              "      <td>\\N</td>\n",
              "      <td>\\N</td>\n",
              "      <td>Action,Drama,Family</td>\n",
              "    </tr>\n",
              "    <tr>\n",
              "      <th>8411467</th>\n",
              "      <td>tt9916852</td>\n",
              "      <td>tvEpisode</td>\n",
              "      <td>Episode #3.20</td>\n",
              "      <td>Episode #3.20</td>\n",
              "      <td>0</td>\n",
              "      <td>2010</td>\n",
              "      <td>\\N</td>\n",
              "      <td>\\N</td>\n",
              "      <td>Action,Drama,Family</td>\n",
              "    </tr>\n",
              "    <tr>\n",
              "      <th>8411468</th>\n",
              "      <td>tt9916856</td>\n",
              "      <td>short</td>\n",
              "      <td>The Wind</td>\n",
              "      <td>The Wind</td>\n",
              "      <td>0</td>\n",
              "      <td>2015</td>\n",
              "      <td>\\N</td>\n",
              "      <td>27</td>\n",
              "      <td>Short</td>\n",
              "    </tr>\n",
              "    <tr>\n",
              "      <th>8411469</th>\n",
              "      <td>tt9916880</td>\n",
              "      <td>tvEpisode</td>\n",
              "      <td>Horrid Henry Knows It All</td>\n",
              "      <td>Horrid Henry Knows It All</td>\n",
              "      <td>0</td>\n",
              "      <td>2014</td>\n",
              "      <td>\\N</td>\n",
              "      <td>10</td>\n",
              "      <td>Adventure,Animation,Comedy</td>\n",
              "    </tr>\n",
              "  </tbody>\n",
              "</table>\n",
              "<p>8411470 rows × 9 columns</p>\n",
              "</div>"
            ],
            "text/plain": [
              "            tconst  titleType  ... runtimeMinutes                      genres\n",
              "0        tt0000001      short  ...              1           Documentary,Short\n",
              "1        tt0000002      short  ...              5             Animation,Short\n",
              "2        tt0000003      short  ...              4    Animation,Comedy,Romance\n",
              "3        tt0000004      short  ...             12             Animation,Short\n",
              "4        tt0000005      short  ...              1                Comedy,Short\n",
              "...            ...        ...  ...            ...                         ...\n",
              "8411465  tt9916848  tvEpisode  ...             \\N         Action,Drama,Family\n",
              "8411466  tt9916850  tvEpisode  ...             \\N         Action,Drama,Family\n",
              "8411467  tt9916852  tvEpisode  ...             \\N         Action,Drama,Family\n",
              "8411468  tt9916856      short  ...             27                       Short\n",
              "8411469  tt9916880  tvEpisode  ...             10  Adventure,Animation,Comedy\n",
              "\n",
              "[8411470 rows x 9 columns]"
            ]
          },
          "metadata": {},
          "execution_count": 8
        }
      ]
    },
    {
      "cell_type": "markdown",
      "metadata": {
        "id": "M-EcfKr2u-Re"
      },
      "source": [
        "We merged both the dataset in order to have a combine dataset which contains critical datas we need for the ML model\n",
        "we used the following paraeter in order to build the model:\n",
        "\n",
        "\n",
        "*   Genres(Thriller,Horror,etc)\n",
        "*   The total runtime of the title\n",
        "*   Number of Votes\n",
        "*   The Average Rating of the movie\n",
        "*   Whether the movie is R rated or not\n",
        "\n",
        "\n",
        "\n",
        "\n",
        "\n",
        "\n",
        "\n"
      ]
    },
    {
      "cell_type": "code",
      "metadata": {
        "id": "pomraAVd-qLz"
      },
      "source": [
        "df_cd = pd.merge(rating, genre, how='inner', on = 'tconst')"
      ],
      "execution_count": null,
      "outputs": []
    },
    {
      "cell_type": "code",
      "metadata": {
        "colab": {
          "base_uri": "https://localhost:8080/",
          "height": 450
        },
        "id": "K4S9-rlh_Dq7",
        "outputId": "4b37eef9-c4ee-41cd-d6e0-282d0b98b237"
      },
      "source": [
        "df_cd = df_cd[df_cd['genres'].notnull()]\n",
        "df_cd =df_cd.reset_index()\n",
        "df_cd "
      ],
      "execution_count": null,
      "outputs": [
        {
          "output_type": "execute_result",
          "data": {
            "text/html": [
              "<div>\n",
              "<style scoped>\n",
              "    .dataframe tbody tr th:only-of-type {\n",
              "        vertical-align: middle;\n",
              "    }\n",
              "\n",
              "    .dataframe tbody tr th {\n",
              "        vertical-align: top;\n",
              "    }\n",
              "\n",
              "    .dataframe thead th {\n",
              "        text-align: right;\n",
              "    }\n",
              "</style>\n",
              "<table border=\"1\" class=\"dataframe\">\n",
              "  <thead>\n",
              "    <tr style=\"text-align: right;\">\n",
              "      <th></th>\n",
              "      <th>index</th>\n",
              "      <th>tconst</th>\n",
              "      <th>averageRating</th>\n",
              "      <th>numVotes</th>\n",
              "      <th>titleType</th>\n",
              "      <th>primaryTitle</th>\n",
              "      <th>originalTitle</th>\n",
              "      <th>isAdult</th>\n",
              "      <th>startYear</th>\n",
              "      <th>endYear</th>\n",
              "      <th>runtimeMinutes</th>\n",
              "      <th>genres</th>\n",
              "    </tr>\n",
              "  </thead>\n",
              "  <tbody>\n",
              "    <tr>\n",
              "      <th>0</th>\n",
              "      <td>0</td>\n",
              "      <td>tt0000001</td>\n",
              "      <td>5.7</td>\n",
              "      <td>1834</td>\n",
              "      <td>short</td>\n",
              "      <td>Carmencita</td>\n",
              "      <td>Carmencita</td>\n",
              "      <td>0</td>\n",
              "      <td>1894</td>\n",
              "      <td>\\N</td>\n",
              "      <td>1</td>\n",
              "      <td>Documentary,Short</td>\n",
              "    </tr>\n",
              "    <tr>\n",
              "      <th>1</th>\n",
              "      <td>1</td>\n",
              "      <td>tt0000002</td>\n",
              "      <td>6.0</td>\n",
              "      <td>236</td>\n",
              "      <td>short</td>\n",
              "      <td>Le clown et ses chiens</td>\n",
              "      <td>Le clown et ses chiens</td>\n",
              "      <td>0</td>\n",
              "      <td>1892</td>\n",
              "      <td>\\N</td>\n",
              "      <td>5</td>\n",
              "      <td>Animation,Short</td>\n",
              "    </tr>\n",
              "    <tr>\n",
              "      <th>2</th>\n",
              "      <td>2</td>\n",
              "      <td>tt0000003</td>\n",
              "      <td>6.5</td>\n",
              "      <td>1593</td>\n",
              "      <td>short</td>\n",
              "      <td>Pauvre Pierrot</td>\n",
              "      <td>Pauvre Pierrot</td>\n",
              "      <td>0</td>\n",
              "      <td>1892</td>\n",
              "      <td>\\N</td>\n",
              "      <td>4</td>\n",
              "      <td>Animation,Comedy,Romance</td>\n",
              "    </tr>\n",
              "    <tr>\n",
              "      <th>3</th>\n",
              "      <td>3</td>\n",
              "      <td>tt0000004</td>\n",
              "      <td>6.0</td>\n",
              "      <td>153</td>\n",
              "      <td>short</td>\n",
              "      <td>Un bon bock</td>\n",
              "      <td>Un bon bock</td>\n",
              "      <td>0</td>\n",
              "      <td>1892</td>\n",
              "      <td>\\N</td>\n",
              "      <td>12</td>\n",
              "      <td>Animation,Short</td>\n",
              "    </tr>\n",
              "    <tr>\n",
              "      <th>4</th>\n",
              "      <td>4</td>\n",
              "      <td>tt0000005</td>\n",
              "      <td>6.2</td>\n",
              "      <td>2410</td>\n",
              "      <td>short</td>\n",
              "      <td>Blacksmith Scene</td>\n",
              "      <td>Blacksmith Scene</td>\n",
              "      <td>0</td>\n",
              "      <td>1893</td>\n",
              "      <td>\\N</td>\n",
              "      <td>1</td>\n",
              "      <td>Comedy,Short</td>\n",
              "    </tr>\n",
              "    <tr>\n",
              "      <th>...</th>\n",
              "      <td>...</td>\n",
              "      <td>...</td>\n",
              "      <td>...</td>\n",
              "      <td>...</td>\n",
              "      <td>...</td>\n",
              "      <td>...</td>\n",
              "      <td>...</td>\n",
              "      <td>...</td>\n",
              "      <td>...</td>\n",
              "      <td>...</td>\n",
              "      <td>...</td>\n",
              "      <td>...</td>\n",
              "    </tr>\n",
              "    <tr>\n",
              "      <th>1201140</th>\n",
              "      <td>1201142</td>\n",
              "      <td>tt9916682</td>\n",
              "      <td>5.6</td>\n",
              "      <td>5</td>\n",
              "      <td>tvEpisode</td>\n",
              "      <td>Horrid Henry It's all Your Fault</td>\n",
              "      <td>Horrid Henry It's all Your Fault</td>\n",
              "      <td>0</td>\n",
              "      <td>2012</td>\n",
              "      <td>\\N</td>\n",
              "      <td>10</td>\n",
              "      <td>Adventure,Animation,Comedy</td>\n",
              "    </tr>\n",
              "    <tr>\n",
              "      <th>1201141</th>\n",
              "      <td>1201143</td>\n",
              "      <td>tt9916690</td>\n",
              "      <td>6.6</td>\n",
              "      <td>5</td>\n",
              "      <td>tvEpisode</td>\n",
              "      <td>Horrid Henry Delivers the Milk</td>\n",
              "      <td>Horrid Henry Delivers the Milk</td>\n",
              "      <td>0</td>\n",
              "      <td>2012</td>\n",
              "      <td>\\N</td>\n",
              "      <td>10</td>\n",
              "      <td>Adventure,Animation,Comedy</td>\n",
              "    </tr>\n",
              "    <tr>\n",
              "      <th>1201142</th>\n",
              "      <td>1201144</td>\n",
              "      <td>tt9916720</td>\n",
              "      <td>5.2</td>\n",
              "      <td>147</td>\n",
              "      <td>short</td>\n",
              "      <td>The Nun 2</td>\n",
              "      <td>The Nun 2</td>\n",
              "      <td>0</td>\n",
              "      <td>2019</td>\n",
              "      <td>\\N</td>\n",
              "      <td>10</td>\n",
              "      <td>Comedy,Horror,Mystery</td>\n",
              "    </tr>\n",
              "    <tr>\n",
              "      <th>1201143</th>\n",
              "      <td>1201145</td>\n",
              "      <td>tt9916766</td>\n",
              "      <td>7.1</td>\n",
              "      <td>17</td>\n",
              "      <td>tvEpisode</td>\n",
              "      <td>Episode #10.15</td>\n",
              "      <td>Episode #10.15</td>\n",
              "      <td>0</td>\n",
              "      <td>2019</td>\n",
              "      <td>\\N</td>\n",
              "      <td>43</td>\n",
              "      <td>Family,Reality-TV</td>\n",
              "    </tr>\n",
              "    <tr>\n",
              "      <th>1201144</th>\n",
              "      <td>1201146</td>\n",
              "      <td>tt9916778</td>\n",
              "      <td>7.4</td>\n",
              "      <td>32</td>\n",
              "      <td>tvEpisode</td>\n",
              "      <td>Escape</td>\n",
              "      <td>Escape</td>\n",
              "      <td>0</td>\n",
              "      <td>2019</td>\n",
              "      <td>\\N</td>\n",
              "      <td>\\N</td>\n",
              "      <td>Crime,Drama,Mystery</td>\n",
              "    </tr>\n",
              "  </tbody>\n",
              "</table>\n",
              "<p>1201145 rows × 12 columns</p>\n",
              "</div>"
            ],
            "text/plain": [
              "           index     tconst  ...  runtimeMinutes                      genres\n",
              "0              0  tt0000001  ...               1           Documentary,Short\n",
              "1              1  tt0000002  ...               5             Animation,Short\n",
              "2              2  tt0000003  ...               4    Animation,Comedy,Romance\n",
              "3              3  tt0000004  ...              12             Animation,Short\n",
              "4              4  tt0000005  ...               1                Comedy,Short\n",
              "...          ...        ...  ...             ...                         ...\n",
              "1201140  1201142  tt9916682  ...              10  Adventure,Animation,Comedy\n",
              "1201141  1201143  tt9916690  ...              10  Adventure,Animation,Comedy\n",
              "1201142  1201144  tt9916720  ...              10       Comedy,Horror,Mystery\n",
              "1201143  1201145  tt9916766  ...              43           Family,Reality-TV\n",
              "1201144  1201146  tt9916778  ...              \\N         Crime,Drama,Mystery\n",
              "\n",
              "[1201145 rows x 12 columns]"
            ]
          },
          "metadata": {},
          "execution_count": 10
        }
      ]
    },
    {
      "cell_type": "markdown",
      "metadata": {
        "id": "35Chg2qLAUw1"
      },
      "source": [
        "**Data Cleaning**"
      ]
    },
    {
      "cell_type": "code",
      "metadata": {
        "colab": {
          "base_uri": "https://localhost:8080/",
          "height": 638
        },
        "id": "p8TpTp5YPC4x",
        "outputId": "28c542e1-eb5a-400b-cf15-02423eff59fb"
      },
      "source": [
        "arr = []\n",
        "j =0\n",
        "s1={}\n",
        "\n",
        "for s in df_cd['genres']:\n",
        "  a= s.split(',')\n",
        "  \n",
        "  for i in a:\n",
        "    s1[i]=1;\n",
        "  arr.append(s.split(','))\n",
        "  # df=df_cd\n",
        "# df=pd.DataFrame(index=range(len(df_cd)));\n",
        "#for s in s1:\n",
        "  # df=df_cd\n",
        "# df=pd.DataFrame(index=range(len(df_cd)));\n",
        "for s in s1:\n",
        "  df_cd[s]=0;\n",
        "for s in df_cd['genres']:\n",
        "  a= s.split(',')\n",
        "  for i in a:\n",
        "    df_cd[i][j]+=1\n",
        "  j=j+1\n",
        "df_cd"
      ],
      "execution_count": null,
      "outputs": [
        {
          "output_type": "stream",
          "name": "stderr",
          "text": [
            "/usr/local/lib/python3.7/dist-packages/ipykernel_launcher.py:21: SettingWithCopyWarning: \n",
            "A value is trying to be set on a copy of a slice from a DataFrame\n",
            "\n",
            "See the caveats in the documentation: https://pandas.pydata.org/pandas-docs/stable/user_guide/indexing.html#returning-a-view-versus-a-copy\n"
          ]
        },
        {
          "output_type": "execute_result",
          "data": {
            "text/html": [
              "<div>\n",
              "<style scoped>\n",
              "    .dataframe tbody tr th:only-of-type {\n",
              "        vertical-align: middle;\n",
              "    }\n",
              "\n",
              "    .dataframe tbody tr th {\n",
              "        vertical-align: top;\n",
              "    }\n",
              "\n",
              "    .dataframe thead th {\n",
              "        text-align: right;\n",
              "    }\n",
              "</style>\n",
              "<table border=\"1\" class=\"dataframe\">\n",
              "  <thead>\n",
              "    <tr style=\"text-align: right;\">\n",
              "      <th></th>\n",
              "      <th>index</th>\n",
              "      <th>tconst</th>\n",
              "      <th>averageRating</th>\n",
              "      <th>numVotes</th>\n",
              "      <th>titleType</th>\n",
              "      <th>primaryTitle</th>\n",
              "      <th>originalTitle</th>\n",
              "      <th>isAdult</th>\n",
              "      <th>startYear</th>\n",
              "      <th>endYear</th>\n",
              "      <th>runtimeMinutes</th>\n",
              "      <th>genres</th>\n",
              "      <th>Documentary</th>\n",
              "      <th>Short</th>\n",
              "      <th>Animation</th>\n",
              "      <th>Comedy</th>\n",
              "      <th>Romance</th>\n",
              "      <th>Sport</th>\n",
              "      <th>News</th>\n",
              "      <th>Drama</th>\n",
              "      <th>Fantasy</th>\n",
              "      <th>Horror</th>\n",
              "      <th>Biography</th>\n",
              "      <th>Music</th>\n",
              "      <th>War</th>\n",
              "      <th>Crime</th>\n",
              "      <th>Western</th>\n",
              "      <th>Family</th>\n",
              "      <th>Adventure</th>\n",
              "      <th>Action</th>\n",
              "      <th>History</th>\n",
              "      <th>Mystery</th>\n",
              "      <th>\\N</th>\n",
              "      <th>Sci-Fi</th>\n",
              "      <th>Musical</th>\n",
              "      <th>Thriller</th>\n",
              "      <th>Film-Noir</th>\n",
              "      <th>Game-Show</th>\n",
              "      <th>Talk-Show</th>\n",
              "      <th>Reality-TV</th>\n",
              "      <th>Adult</th>\n",
              "    </tr>\n",
              "  </thead>\n",
              "  <tbody>\n",
              "    <tr>\n",
              "      <th>0</th>\n",
              "      <td>0</td>\n",
              "      <td>tt0000001</td>\n",
              "      <td>5.7</td>\n",
              "      <td>1834</td>\n",
              "      <td>short</td>\n",
              "      <td>Carmencita</td>\n",
              "      <td>Carmencita</td>\n",
              "      <td>0</td>\n",
              "      <td>1894</td>\n",
              "      <td>\\N</td>\n",
              "      <td>1</td>\n",
              "      <td>Documentary,Short</td>\n",
              "      <td>1</td>\n",
              "      <td>1</td>\n",
              "      <td>0</td>\n",
              "      <td>0</td>\n",
              "      <td>0</td>\n",
              "      <td>0</td>\n",
              "      <td>0</td>\n",
              "      <td>0</td>\n",
              "      <td>0</td>\n",
              "      <td>0</td>\n",
              "      <td>0</td>\n",
              "      <td>0</td>\n",
              "      <td>0</td>\n",
              "      <td>0</td>\n",
              "      <td>0</td>\n",
              "      <td>0</td>\n",
              "      <td>0</td>\n",
              "      <td>0</td>\n",
              "      <td>0</td>\n",
              "      <td>0</td>\n",
              "      <td>0</td>\n",
              "      <td>0</td>\n",
              "      <td>0</td>\n",
              "      <td>0</td>\n",
              "      <td>0</td>\n",
              "      <td>0</td>\n",
              "      <td>0</td>\n",
              "      <td>0</td>\n",
              "      <td>0</td>\n",
              "    </tr>\n",
              "    <tr>\n",
              "      <th>1</th>\n",
              "      <td>1</td>\n",
              "      <td>tt0000002</td>\n",
              "      <td>6.0</td>\n",
              "      <td>236</td>\n",
              "      <td>short</td>\n",
              "      <td>Le clown et ses chiens</td>\n",
              "      <td>Le clown et ses chiens</td>\n",
              "      <td>0</td>\n",
              "      <td>1892</td>\n",
              "      <td>\\N</td>\n",
              "      <td>5</td>\n",
              "      <td>Animation,Short</td>\n",
              "      <td>0</td>\n",
              "      <td>1</td>\n",
              "      <td>1</td>\n",
              "      <td>0</td>\n",
              "      <td>0</td>\n",
              "      <td>0</td>\n",
              "      <td>0</td>\n",
              "      <td>0</td>\n",
              "      <td>0</td>\n",
              "      <td>0</td>\n",
              "      <td>0</td>\n",
              "      <td>0</td>\n",
              "      <td>0</td>\n",
              "      <td>0</td>\n",
              "      <td>0</td>\n",
              "      <td>0</td>\n",
              "      <td>0</td>\n",
              "      <td>0</td>\n",
              "      <td>0</td>\n",
              "      <td>0</td>\n",
              "      <td>0</td>\n",
              "      <td>0</td>\n",
              "      <td>0</td>\n",
              "      <td>0</td>\n",
              "      <td>0</td>\n",
              "      <td>0</td>\n",
              "      <td>0</td>\n",
              "      <td>0</td>\n",
              "      <td>0</td>\n",
              "    </tr>\n",
              "    <tr>\n",
              "      <th>2</th>\n",
              "      <td>2</td>\n",
              "      <td>tt0000003</td>\n",
              "      <td>6.5</td>\n",
              "      <td>1593</td>\n",
              "      <td>short</td>\n",
              "      <td>Pauvre Pierrot</td>\n",
              "      <td>Pauvre Pierrot</td>\n",
              "      <td>0</td>\n",
              "      <td>1892</td>\n",
              "      <td>\\N</td>\n",
              "      <td>4</td>\n",
              "      <td>Animation,Comedy,Romance</td>\n",
              "      <td>0</td>\n",
              "      <td>0</td>\n",
              "      <td>1</td>\n",
              "      <td>1</td>\n",
              "      <td>1</td>\n",
              "      <td>0</td>\n",
              "      <td>0</td>\n",
              "      <td>0</td>\n",
              "      <td>0</td>\n",
              "      <td>0</td>\n",
              "      <td>0</td>\n",
              "      <td>0</td>\n",
              "      <td>0</td>\n",
              "      <td>0</td>\n",
              "      <td>0</td>\n",
              "      <td>0</td>\n",
              "      <td>0</td>\n",
              "      <td>0</td>\n",
              "      <td>0</td>\n",
              "      <td>0</td>\n",
              "      <td>0</td>\n",
              "      <td>0</td>\n",
              "      <td>0</td>\n",
              "      <td>0</td>\n",
              "      <td>0</td>\n",
              "      <td>0</td>\n",
              "      <td>0</td>\n",
              "      <td>0</td>\n",
              "      <td>0</td>\n",
              "    </tr>\n",
              "    <tr>\n",
              "      <th>3</th>\n",
              "      <td>3</td>\n",
              "      <td>tt0000004</td>\n",
              "      <td>6.0</td>\n",
              "      <td>153</td>\n",
              "      <td>short</td>\n",
              "      <td>Un bon bock</td>\n",
              "      <td>Un bon bock</td>\n",
              "      <td>0</td>\n",
              "      <td>1892</td>\n",
              "      <td>\\N</td>\n",
              "      <td>12</td>\n",
              "      <td>Animation,Short</td>\n",
              "      <td>0</td>\n",
              "      <td>1</td>\n",
              "      <td>1</td>\n",
              "      <td>0</td>\n",
              "      <td>0</td>\n",
              "      <td>0</td>\n",
              "      <td>0</td>\n",
              "      <td>0</td>\n",
              "      <td>0</td>\n",
              "      <td>0</td>\n",
              "      <td>0</td>\n",
              "      <td>0</td>\n",
              "      <td>0</td>\n",
              "      <td>0</td>\n",
              "      <td>0</td>\n",
              "      <td>0</td>\n",
              "      <td>0</td>\n",
              "      <td>0</td>\n",
              "      <td>0</td>\n",
              "      <td>0</td>\n",
              "      <td>0</td>\n",
              "      <td>0</td>\n",
              "      <td>0</td>\n",
              "      <td>0</td>\n",
              "      <td>0</td>\n",
              "      <td>0</td>\n",
              "      <td>0</td>\n",
              "      <td>0</td>\n",
              "      <td>0</td>\n",
              "    </tr>\n",
              "    <tr>\n",
              "      <th>4</th>\n",
              "      <td>4</td>\n",
              "      <td>tt0000005</td>\n",
              "      <td>6.2</td>\n",
              "      <td>2410</td>\n",
              "      <td>short</td>\n",
              "      <td>Blacksmith Scene</td>\n",
              "      <td>Blacksmith Scene</td>\n",
              "      <td>0</td>\n",
              "      <td>1893</td>\n",
              "      <td>\\N</td>\n",
              "      <td>1</td>\n",
              "      <td>Comedy,Short</td>\n",
              "      <td>0</td>\n",
              "      <td>1</td>\n",
              "      <td>0</td>\n",
              "      <td>1</td>\n",
              "      <td>0</td>\n",
              "      <td>0</td>\n",
              "      <td>0</td>\n",
              "      <td>0</td>\n",
              "      <td>0</td>\n",
              "      <td>0</td>\n",
              "      <td>0</td>\n",
              "      <td>0</td>\n",
              "      <td>0</td>\n",
              "      <td>0</td>\n",
              "      <td>0</td>\n",
              "      <td>0</td>\n",
              "      <td>0</td>\n",
              "      <td>0</td>\n",
              "      <td>0</td>\n",
              "      <td>0</td>\n",
              "      <td>0</td>\n",
              "      <td>0</td>\n",
              "      <td>0</td>\n",
              "      <td>0</td>\n",
              "      <td>0</td>\n",
              "      <td>0</td>\n",
              "      <td>0</td>\n",
              "      <td>0</td>\n",
              "      <td>0</td>\n",
              "    </tr>\n",
              "    <tr>\n",
              "      <th>...</th>\n",
              "      <td>...</td>\n",
              "      <td>...</td>\n",
              "      <td>...</td>\n",
              "      <td>...</td>\n",
              "      <td>...</td>\n",
              "      <td>...</td>\n",
              "      <td>...</td>\n",
              "      <td>...</td>\n",
              "      <td>...</td>\n",
              "      <td>...</td>\n",
              "      <td>...</td>\n",
              "      <td>...</td>\n",
              "      <td>...</td>\n",
              "      <td>...</td>\n",
              "      <td>...</td>\n",
              "      <td>...</td>\n",
              "      <td>...</td>\n",
              "      <td>...</td>\n",
              "      <td>...</td>\n",
              "      <td>...</td>\n",
              "      <td>...</td>\n",
              "      <td>...</td>\n",
              "      <td>...</td>\n",
              "      <td>...</td>\n",
              "      <td>...</td>\n",
              "      <td>...</td>\n",
              "      <td>...</td>\n",
              "      <td>...</td>\n",
              "      <td>...</td>\n",
              "      <td>...</td>\n",
              "      <td>...</td>\n",
              "      <td>...</td>\n",
              "      <td>...</td>\n",
              "      <td>...</td>\n",
              "      <td>...</td>\n",
              "      <td>...</td>\n",
              "      <td>...</td>\n",
              "      <td>...</td>\n",
              "      <td>...</td>\n",
              "      <td>...</td>\n",
              "      <td>...</td>\n",
              "    </tr>\n",
              "    <tr>\n",
              "      <th>1201140</th>\n",
              "      <td>1201142</td>\n",
              "      <td>tt9916682</td>\n",
              "      <td>5.6</td>\n",
              "      <td>5</td>\n",
              "      <td>tvEpisode</td>\n",
              "      <td>Horrid Henry It's all Your Fault</td>\n",
              "      <td>Horrid Henry It's all Your Fault</td>\n",
              "      <td>0</td>\n",
              "      <td>2012</td>\n",
              "      <td>\\N</td>\n",
              "      <td>10</td>\n",
              "      <td>Adventure,Animation,Comedy</td>\n",
              "      <td>0</td>\n",
              "      <td>0</td>\n",
              "      <td>1</td>\n",
              "      <td>1</td>\n",
              "      <td>0</td>\n",
              "      <td>0</td>\n",
              "      <td>0</td>\n",
              "      <td>0</td>\n",
              "      <td>0</td>\n",
              "      <td>0</td>\n",
              "      <td>0</td>\n",
              "      <td>0</td>\n",
              "      <td>0</td>\n",
              "      <td>0</td>\n",
              "      <td>0</td>\n",
              "      <td>0</td>\n",
              "      <td>1</td>\n",
              "      <td>0</td>\n",
              "      <td>0</td>\n",
              "      <td>0</td>\n",
              "      <td>0</td>\n",
              "      <td>0</td>\n",
              "      <td>0</td>\n",
              "      <td>0</td>\n",
              "      <td>0</td>\n",
              "      <td>0</td>\n",
              "      <td>0</td>\n",
              "      <td>0</td>\n",
              "      <td>0</td>\n",
              "    </tr>\n",
              "    <tr>\n",
              "      <th>1201141</th>\n",
              "      <td>1201143</td>\n",
              "      <td>tt9916690</td>\n",
              "      <td>6.6</td>\n",
              "      <td>5</td>\n",
              "      <td>tvEpisode</td>\n",
              "      <td>Horrid Henry Delivers the Milk</td>\n",
              "      <td>Horrid Henry Delivers the Milk</td>\n",
              "      <td>0</td>\n",
              "      <td>2012</td>\n",
              "      <td>\\N</td>\n",
              "      <td>10</td>\n",
              "      <td>Adventure,Animation,Comedy</td>\n",
              "      <td>0</td>\n",
              "      <td>0</td>\n",
              "      <td>1</td>\n",
              "      <td>1</td>\n",
              "      <td>0</td>\n",
              "      <td>0</td>\n",
              "      <td>0</td>\n",
              "      <td>0</td>\n",
              "      <td>0</td>\n",
              "      <td>0</td>\n",
              "      <td>0</td>\n",
              "      <td>0</td>\n",
              "      <td>0</td>\n",
              "      <td>0</td>\n",
              "      <td>0</td>\n",
              "      <td>0</td>\n",
              "      <td>1</td>\n",
              "      <td>0</td>\n",
              "      <td>0</td>\n",
              "      <td>0</td>\n",
              "      <td>0</td>\n",
              "      <td>0</td>\n",
              "      <td>0</td>\n",
              "      <td>0</td>\n",
              "      <td>0</td>\n",
              "      <td>0</td>\n",
              "      <td>0</td>\n",
              "      <td>0</td>\n",
              "      <td>0</td>\n",
              "    </tr>\n",
              "    <tr>\n",
              "      <th>1201142</th>\n",
              "      <td>1201144</td>\n",
              "      <td>tt9916720</td>\n",
              "      <td>5.2</td>\n",
              "      <td>147</td>\n",
              "      <td>short</td>\n",
              "      <td>The Nun 2</td>\n",
              "      <td>The Nun 2</td>\n",
              "      <td>0</td>\n",
              "      <td>2019</td>\n",
              "      <td>\\N</td>\n",
              "      <td>10</td>\n",
              "      <td>Comedy,Horror,Mystery</td>\n",
              "      <td>0</td>\n",
              "      <td>0</td>\n",
              "      <td>0</td>\n",
              "      <td>1</td>\n",
              "      <td>0</td>\n",
              "      <td>0</td>\n",
              "      <td>0</td>\n",
              "      <td>0</td>\n",
              "      <td>0</td>\n",
              "      <td>1</td>\n",
              "      <td>0</td>\n",
              "      <td>0</td>\n",
              "      <td>0</td>\n",
              "      <td>0</td>\n",
              "      <td>0</td>\n",
              "      <td>0</td>\n",
              "      <td>0</td>\n",
              "      <td>0</td>\n",
              "      <td>0</td>\n",
              "      <td>1</td>\n",
              "      <td>0</td>\n",
              "      <td>0</td>\n",
              "      <td>0</td>\n",
              "      <td>0</td>\n",
              "      <td>0</td>\n",
              "      <td>0</td>\n",
              "      <td>0</td>\n",
              "      <td>0</td>\n",
              "      <td>0</td>\n",
              "    </tr>\n",
              "    <tr>\n",
              "      <th>1201143</th>\n",
              "      <td>1201145</td>\n",
              "      <td>tt9916766</td>\n",
              "      <td>7.1</td>\n",
              "      <td>17</td>\n",
              "      <td>tvEpisode</td>\n",
              "      <td>Episode #10.15</td>\n",
              "      <td>Episode #10.15</td>\n",
              "      <td>0</td>\n",
              "      <td>2019</td>\n",
              "      <td>\\N</td>\n",
              "      <td>43</td>\n",
              "      <td>Family,Reality-TV</td>\n",
              "      <td>0</td>\n",
              "      <td>0</td>\n",
              "      <td>0</td>\n",
              "      <td>0</td>\n",
              "      <td>0</td>\n",
              "      <td>0</td>\n",
              "      <td>0</td>\n",
              "      <td>0</td>\n",
              "      <td>0</td>\n",
              "      <td>0</td>\n",
              "      <td>0</td>\n",
              "      <td>0</td>\n",
              "      <td>0</td>\n",
              "      <td>0</td>\n",
              "      <td>0</td>\n",
              "      <td>1</td>\n",
              "      <td>0</td>\n",
              "      <td>0</td>\n",
              "      <td>0</td>\n",
              "      <td>0</td>\n",
              "      <td>0</td>\n",
              "      <td>0</td>\n",
              "      <td>0</td>\n",
              "      <td>0</td>\n",
              "      <td>0</td>\n",
              "      <td>0</td>\n",
              "      <td>0</td>\n",
              "      <td>1</td>\n",
              "      <td>0</td>\n",
              "    </tr>\n",
              "    <tr>\n",
              "      <th>1201144</th>\n",
              "      <td>1201146</td>\n",
              "      <td>tt9916778</td>\n",
              "      <td>7.4</td>\n",
              "      <td>32</td>\n",
              "      <td>tvEpisode</td>\n",
              "      <td>Escape</td>\n",
              "      <td>Escape</td>\n",
              "      <td>0</td>\n",
              "      <td>2019</td>\n",
              "      <td>\\N</td>\n",
              "      <td>\\N</td>\n",
              "      <td>Crime,Drama,Mystery</td>\n",
              "      <td>0</td>\n",
              "      <td>0</td>\n",
              "      <td>0</td>\n",
              "      <td>0</td>\n",
              "      <td>0</td>\n",
              "      <td>0</td>\n",
              "      <td>0</td>\n",
              "      <td>1</td>\n",
              "      <td>0</td>\n",
              "      <td>0</td>\n",
              "      <td>0</td>\n",
              "      <td>0</td>\n",
              "      <td>0</td>\n",
              "      <td>1</td>\n",
              "      <td>0</td>\n",
              "      <td>0</td>\n",
              "      <td>0</td>\n",
              "      <td>0</td>\n",
              "      <td>0</td>\n",
              "      <td>1</td>\n",
              "      <td>0</td>\n",
              "      <td>0</td>\n",
              "      <td>0</td>\n",
              "      <td>0</td>\n",
              "      <td>0</td>\n",
              "      <td>0</td>\n",
              "      <td>0</td>\n",
              "      <td>0</td>\n",
              "      <td>0</td>\n",
              "    </tr>\n",
              "  </tbody>\n",
              "</table>\n",
              "<p>1201145 rows × 41 columns</p>\n",
              "</div>"
            ],
            "text/plain": [
              "           index     tconst  averageRating  ...  Talk-Show Reality-TV Adult\n",
              "0              0  tt0000001            5.7  ...          0          0     0\n",
              "1              1  tt0000002            6.0  ...          0          0     0\n",
              "2              2  tt0000003            6.5  ...          0          0     0\n",
              "3              3  tt0000004            6.0  ...          0          0     0\n",
              "4              4  tt0000005            6.2  ...          0          0     0\n",
              "...          ...        ...            ...  ...        ...        ...   ...\n",
              "1201140  1201142  tt9916682            5.6  ...          0          0     0\n",
              "1201141  1201143  tt9916690            6.6  ...          0          0     0\n",
              "1201142  1201144  tt9916720            5.2  ...          0          0     0\n",
              "1201143  1201145  tt9916766            7.1  ...          0          1     0\n",
              "1201144  1201146  tt9916778            7.4  ...          0          0     0\n",
              "\n",
              "[1201145 rows x 41 columns]"
            ]
          },
          "metadata": {},
          "execution_count": 12
        }
      ]
    },
    {
      "cell_type": "code",
      "metadata": {
        "id": "EUA2ONrRjiaK"
      },
      "source": [
        "l = {}\n",
        "k = {}\n",
        "m = {}\n",
        "from collections import defaultdict\n",
        "# df=pd.DataFrame();\n",
        "d={}\n",
        "j=0\n",
        "d=defaultdict(list)\n",
        "e=defaultdict(list)\n",
        "for s in df_cd['genres']:\n",
        "  a= s.split(',') \n",
        "  for i in a:\n",
        "    l[i]=0\n",
        "    k[i]=0\n",
        "    m[i]=0\n",
        "\n",
        "for s in df_cd['genres']:\n",
        "  a= s.split(',')\n",
        "  for i in a:\n",
        "    #l[i]+=1\n",
        "    # df.loc[len(df.index)] = [i,df_cd['averageRating'][j]]\n",
        "    # df.append({i:df_cd['averageRating'][j]},ignore_index = True)\n",
        "    d[i].append(df_cd['averageRating'][j])\n",
        "    e[i].append(df_cd['numVotes'][j])\n",
        "    l[i]=(l[i]*k[i]+df_cd['averageRating'][j])/(k[i]+1)\n",
        "    k[i]+=1\n",
        "    m[i]+=df_cd['numVotes'][j]\n",
        "  j+=1\n"
      ],
      "execution_count": null,
      "outputs": []
    },
    {
      "cell_type": "code",
      "metadata": {
        "id": "tiM6kwW3if48"
      },
      "source": [
        "Ab = pd.DataFrame(dict([ (k,pd.Series(v)) for k,v in d.items() ]))\n",
        "Eb = pd.DataFrame(dict([ (k,pd.Series(v)) for k,v in e.items() ]))"
      ],
      "execution_count": null,
      "outputs": []
    },
    {
      "cell_type": "markdown",
      "metadata": {
        "id": "IYIiRPt1xF6w"
      },
      "source": [
        "**Bar Chart of Movie Rating Vs Genres**\n",
        "\n",
        "**Inference we got from the data**\n",
        "*   The movie rating doesn't drastically change with the genres in most cases.\n",
        "*   The average rating  for all genres varies from 6-7.5 which tell central mean of rating for each genres in same\n",
        "*   However there are some obious differences. Horror genres is genrerally low rated which means most people don't rate horror genres high in online forum\n",
        "*   While in case of historically genre is higher rated which means people enoy them.\n",
        "\n"
      ]
    },
    {
      "cell_type": "code",
      "metadata": {
        "colab": {
          "base_uri": "https://localhost:8080/",
          "height": 886
        },
        "id": "tkm4H4bTLiEe",
        "outputId": "60fb41f9-2c8e-4e16-8768-f3d1768a172c"
      },
      "source": [
        "plt.bar(*zip(*l.items()))\n",
        "#plt.show()\n",
        "sns.barplot(data=pd.DataFrame.from_records([l]))\n",
        "sns.set(rc = {'figure.figsize':(30,15)})"
      ],
      "execution_count": null,
      "outputs": [
        {
          "output_type": "display_data",
          "data": {
            "image/png": "[encoded data removed]",
            "text/plain": [
              "<Figure size 2160x1080 with 1 Axes>"
            ]
          },
          "metadata": {}
        }
      ]
    },
    {
      "cell_type": "markdown",
      "metadata": {
        "id": "RvMfX_7fxKNq"
      },
      "source": [
        "**Bar Chart of Number of Votes Vs Genres**\n",
        "\n",
        "**Inference we got from the data**\n",
        "\n",
        "\n",
        "*   The drama genres is most highly viewed . Probably as most of the titles fall under this category of genre\n",
        "*   In the opposite end of the spectrum we have news , short and history which are some of the least visited genre currently\n",
        "*   Although we have seen history being the highest rated tv show earlier but we also found they are some of the least popular title around.\n",
        "*   The genres which people seems to enjoy are comedy and triller . So just by looking into the dataset we can claim that a title which contains elements of thriller,comedy and drama has sufficient potiential to be hit TV show\n",
        "\n",
        "\n",
        "---\n",
        "\n"
      ]
    },
    {
      "cell_type": "code",
      "metadata": {
        "colab": {
          "base_uri": "https://localhost:8080/",
          "height": 730
        },
        "id": "XFIlcuYWfX4c",
        "outputId": "1e64f0e5-e103-4035-f7e2-a2075343b4ea"
      },
      "source": [
        "sns.barplot(data=pd.DataFrame.from_records([m]))\n",
        "sns.set(rc = {'figure.figsize':(30,15)})\n",
        "plt.savefig('save_as_a_png.png')"
      ],
      "execution_count": null,
      "outputs": [
        {
          "output_type": "display_data",
          "data": {
            "image/png": "[encoded data removed]",
            "text/plain": [
              "<Figure size 2160x1080 with 1 Axes>"
            ]
          },
          "metadata": {}
        }
      ]
    },
    {
      "cell_type": "markdown",
      "metadata": {
        "id": "TcNCGa8RnOSc"
      },
      "source": [
        "**Box Plot of Rating Vs Genres**\n",
        "**Inference we got from the data**\n",
        "\n",
        "\n",
        "*   Box plot is really critical in this case as it gives intution about how the datas are varying \n",
        "*   We can see horror is one of the least rated genres. Moreover it also has a higher standard deviation.\n",
        "*   We also noticed that in general cases the distrubution of rating don't vary that much with genres.\n",
        "*   By using the above conclusion we can say genres doesn't affect the rating to that extend.\n",
        "\n"
      ]
    },
    {
      "cell_type": "code",
      "metadata": {
        "id": "40eIx_dNly4l",
        "colab": {
          "base_uri": "https://localhost:8080/",
          "height": 718
        },
        "outputId": "fd41a5ba-41da-49dd-9948-f8778f5b598b"
      },
      "source": [
        "sns.boxplot(data=Ab)\n",
        "sns.set(rc = {'figure.figsize':(30,15)})\n",
        "plt.savefig('save_as_a_png.png')"
      ],
      "execution_count": null,
      "outputs": [
        {
          "output_type": "display_data",
          "data": {
            "image/png": "[encoded data removed]",
            "text/plain": [
              "<Figure size 2160x1080 with 1 Axes>"
            ]
          },
          "metadata": {}
        }
      ]
    },
    {
      "cell_type": "code",
      "metadata": {
        "id": "1ejCJXRtfqKV"
      },
      "source": [
        "from sklearn.model_selection import train_test_split\n",
        "X = df_cd.iloc[:, 12:40].values\n",
        "y = df_cd.iloc[:, 2].values"
      ],
      "execution_count": null,
      "outputs": []
    },
    {
      "cell_type": "code",
      "metadata": {
        "colab": {
          "base_uri": "https://localhost:8080/"
        },
        "id": "71apLQkthn-r",
        "outputId": "326e6b4e-f5c3-43cf-d7f5-c2859525a053"
      },
      "source": [
        "X"
      ],
      "execution_count": null,
      "outputs": [
        {
          "output_type": "execute_result",
          "data": {
            "text/plain": [
              "array([[1, 1, 0, ..., 0, 0, 0],\n",
              "       [0, 1, 1, ..., 0, 0, 0],\n",
              "       [0, 0, 1, ..., 0, 0, 0],\n",
              "       ...,\n",
              "       [0, 0, 0, ..., 0, 0, 0],\n",
              "       [0, 0, 0, ..., 0, 0, 1],\n",
              "       [0, 0, 0, ..., 0, 0, 0]])"
            ]
          },
          "metadata": {},
          "execution_count": 90
        }
      ]
    },
    {
      "cell_type": "code",
      "metadata": {
        "colab": {
          "base_uri": "https://localhost:8080/"
        },
        "id": "cyE6FCAGhqIv",
        "outputId": "63b71854-01a8-4216-a04d-235d4fab2a76"
      },
      "source": [
        "y"
      ],
      "execution_count": null,
      "outputs": [
        {
          "output_type": "execute_result",
          "data": {
            "text/plain": [
              "array([5.7, 6. , 6.5, ..., 5.2, 7.1, 7.4])"
            ]
          },
          "metadata": {},
          "execution_count": 18
        }
      ]
    },
    {
      "cell_type": "markdown",
      "metadata": {
        "id": "vcCFuIvy4u2H"
      },
      "source": [
        "**Decision Tree**                                                                            \n",
        "We used decison tree as our preferred ML model for our project ![images.png](data:image/png;base64,iVBORw0KGgoAAAANSUhEUgAAAOEAAADhCAMAAAAJbSJIAAAB2lBMVEX///9RcP/Q0NBJav9Nbf9MbP/T09NHaP/w9P309PRlfvbv7+9GZflJaPXo6Oje3t6ntO32+P6ntfVFZfVQbfTN1vbY4PmHmvG6xvCTo/X4+Pjf4/l5jvVthO3h4eG5xPf/ujzAy/Cyvu2XqPCClvW+ykyRovaqU7v///r3yHP56L/40In77Mz5yHL64a7z9v5Yc/X76+v5wl//uDX1ubn32Nj+8vL0pDP7vEz779T31Zk/Yfzj6vpnf/D70ND43Nzzf3/yamrzlpbyior1rKv0xcX1TU3nWFfsirX6++zygDCwvTfANWTS88/V7tKRyoyr2abm+OT+/O33v1b52pgzWfkvVux4je05WuTkcXHomJfjiIfiRUTvPj34e3r6wcH2WVieo6eJb5eEPpduN4GvqLh0MYh8eYhjYnF5XIiUi5+Wmp/Av8XYyLHGnF65l2jLx7/FkanCj0O7gJzQtIvzoSfgnTrLqbnYh6y9qY3Lz6uPnSvMdjWaZ6ScUaqqsmaeqFaQU5y6wofWdCashbPLhVHKt6jY3rfFzJaWpROqPWStYnyZSGWbp0TVpV+qc4fDknC+s6jNvNGCznxXu1B+wHk8ojK45LUeoQqn3aLW99O87riV14+11rPw/FCmAAATmElEQVR4nO2diV8a19rHz8jAsAwgsqijIkTT4JI4RCQaEBG30kQWc6NvbKr2tvdd7pvF5r1J2npbm3RJTJvb3mpqbeV/fZ9zZkBQZhiQ1c/88gnMcuac53uec56zgIqQKlWqVKlSpUqVKlWqVKlSpUqVKlWqWklT13zI58ue+YQLLazRYdDoyskF353xYTQ0eU04uTo5jK6OX2uQcVXR0DjIMzl6cuXm1RU05BEJr3uG0bXrUw0yrioa8oyMDl/1XEdT2JGjwyvkgBCugG+vAiG+AP/hFLfWqeGVldFWQh7y/AXc5hlCI+NwMDk+ikgrBcLRSc/4nTseoZVeHR+aHPdcRWjEM+65Mz7SaLPL0JDnzhC4cAVMx4SeUYQbJhBCA706POTBhIA75JkcgZPRUc/k8LVJT2sRTl6/MwmB5TThisezglbu5AhHSKe8OX4T+7G1CAFs2DO5cppwyjPpEyKNQAgdEzrltZYk9K1c80xOjXiuT13z5PlwEqCGPXmEPiCcasVWSjSCYcYns5EGB5ebHs8k/BNOhuC/7zq5Oj55vaUIb45gDcM4cG1oZGpkaArdJP9H8YWh4ezJzaFhRA58K1MrrdVKy9XQyPBfcG+9sIIpAMyAWnoWV1Iro/mzWFWqVKlSpapRGhuz2WzyCcYKz236EskFyaY6kc3l7BEOwJKSqXPGhHtsyp5A+lW73e6Y7uAk87Szq678B1h7qEcmQ561Cwp5S5eOUL+ZYULTYTgysqH+Uql7Vu2rGCo8HQp1oj421FG6BD1LgWiNQ6rKx8wUW0BopxhZQkoUo4TQG8JJtQ4w20gzJQldDMViQl5LMZ2ol9YoJNRqKEqzJpFgbJUp9OEqc1eWUKOhwWiNRpEPjTSlsWspbKkiwrvMXSB0MhQ9PYD6Qgp9qO1ud1CUXcqJPT09NrnzU2rvaO8FxI6ODrl6yFrMUJqBsU4tbVRGaIPC4a1Dgx+AvtijoLMDIdOFvKyyRqVM7RrKrCwllMuGkYulzDZFhKIGNNpOxdYIhNC5xCatz9WKTX+qgk6dF97PPy4kFOLdSeL8x7o0uO2cIrQVMaGwsG6N9j1Jy07HV4EQOaC1wJmLh8B6iWTZabbbjU54gOd53A/bHXY7D37W87yDtBS4T2JgN893hI1sXj/OEjodvNHWueoUE5NWG562280DMoT6NbPd0S6A5J4awMaAFT0Onrc5HdCpKN6JBnkeJ+wx2oUnnDwuL+SUINR2Q1qWpmiKBO1eDRzR0ITG7DSOpe0hSkvTIRe4m8ajRUcI7mvNUHmdGm2vg6bymliOkKUdgwzjxA/TNG2H+rA5tPAc011IuMr+R5bQxuOCQ7gOOhlcpBkGwAE4ovDzrhDEUmdIDNW9WtzwwCD8RDspjx/UMMUJeQq37F7o8tM0BbEbsqKnHRQzkB0tzJDASEMiYbSwsRTdxxPHd2opLRSiXStCCHGauevMJgauDoZyQCAKhfMJhfghEHYzFA8mQNWGQ5S5m6eYdlwkDUeA08NSdptzFRPaveJoAXGK79PCdVIeDeVJENKDyGanWD0uyQWW0Gs4ZPWJhC4WoldPSGMUCb0s3Ysv8qQEo34AJy1GaG7vCnfhm2E7xWMM1glPZB0uEAoSCB0UJOCxh/pxOOkPwbjnZaAwbwgGNEKIbO9ptZ0cJxLyuDr6aHBdtjwpwjUUZiliMWTfTbLHQVkgdDI0uG9tMOvDdgbcB4fg7k4tHF6SICSThQ4NWGIzQ2Kbg4KGfYnRDEgQCqOtERPCU+3INTg4gPpx+p41OBIIBeuQQKgnNdetYS7h8uwudFr5hD3YUWAx60XviRXInxAaxQfMAqE2j7BbkpC8E1tzhGNC9RQntHm9XptA2K7RDgp3+pls5iUJHWeH6kJCqoAw3NXlFQnBPkYcTuzlEDoEQuhMKEtog8SShEIRDkzYA1FFGKOhgbNd8oQDigmpaYgvWUIiMdJAOGMvle9DkRCixzQlEFLGaSFCSRJ2mIVJba822+g6Nbh3ShKC0dBzlRJqNFptqAghmtZSoUtl+1BspTC1h3zNhBAfMdKEYZ7RCoR6GIMERBtPC4gShJAlHSpJCM/A845B0JqrCCFn1JJWU1ErpY0430FCSEooiKW2cDicJQQsZpAX5pBhM02ZSWTUY0SXFKFgtLMkYbcYaYjOEiIbINrHKiPUCJMUJPTDE50d8QdxwXBIemDYQYsWATgemST7IcqWJ0lIZm0CYY/TqRcIXR0d7XnrQxvpPxUTOp1OJMTSsNNZMOLnzdrAHLhgzK4DeuzZo7AZz5okCYnRcoTCzFsgHAzdhX6oFUaL7Hiox5NbGDKms4SacgltLGPPjhahUEE/dBHLCKEXFyEQ6vGGRQdm0eMdkX6GXpMZLUIl+qGwehIJi434PLsaFjLLEhJ30mUQmimzSHgy4nsZcfWUJYR81kiX9Nqg6ZKpZh9aZVdt4qyqCCFbejzUdvfjFTAhsCOYAEHY6hAJp0VCyKwLhfGwLxB24eFYmIiVJuzHibHDyRSrBwavbL/EK+AOaDC5FfAlDa5EMh6S2VgXA4/y4pyjtxihME0apMFPkoQnuxhGml7rJvHEyVDmASMFyzCBsB0mxN5BWvOeSAjTYnqgj8azjtKEMBvUDvTSeG4Ok9jpjrydHx5Kx7sYAyIh3p/gIYRqvDhpn3OaBt/ApNfo7KOzM+9CQvAI3TugxdUhTYhn5GQnqgvs1lJksILwDNyw1hLnNHh9RNYE4k7UINQ+nLuUEKK1XGKYqNAaSpNL20VWQrRjTCQcg9GN5nncc8IsTTM07gcwauAjcBUQsqcJnYLRnZKxdJVlWbtxQNiG7GAZNkSGCRh44UYH3okiu4mwxmUYs5c8gHeiuN4Qw9rxXGowFALCu6HpE8K77CohvMvayQUbTsySMbDLzDKh6RM72lko0ohDKx+624/XoYwZ7xVi0x1QJI9XwC6e0bAOF96Jwl0SdYaIkeJOVDs2GjdB52rIXmQLSa/P3wPQO73ZxYfL69SLCch5j9dpO3VODsb0+jG8y3CSS/aEO7kYFhPDTae3YP4/lj2HxDaSrU3IkpiQTeo6SZQtMvcENronv1xVqlSpUqVKVcUKTpwc+yORiD/v3of+M8nzHrwXxG8z67kLkUhQPLznD36I3xfyblbB1so0sXRyHNiai95fEI5j8L4oR4gWuOAsQpFZ8XRmKzp7P5i95SfZzkygwLxw96Pqml2GJmbRxHwgSuwIzGGL58Gr6wuzcwG0FZmbA8j5aMyPFgLz0QA2NQYXAti/MS6wOD8xsbEQJZ5a34BGAHlE52bQehAIg3P+SCAY3QjgT9r9i6SwubkI8q9HY0E0H4kFY0L+tSfcXJxfWFwQCSdmN6NoZta/EYugrWhkbhbFojPzS2h+MbC5COzclj+4BbWyge4HI1ub/onF9YUlXD8Ti1HIIzAb2QygJb9/KTi7iQIxbi4ayRHOLE3MLPlnFvxzMbSxtBnE+W/UhRBKiWEjA0ux2OIm2gquB9AcmLs1g4KLaAuqeTYyD76LbkKi2GYkFvXHACMYXOJIK8X3oKsFZpfQLOnWmHAWcg3EyL179yYI4frG/PzsZnA+Fp1DGzh/P/IvydhWPcIoFE4IZxcWZsDg+dmgQOjHdQ+caGkiRzgRjU0EIAUHhFtAuCESYrStiY2ISLgImWUJkejD+ehEZCJ4L+CHxoIT1olwiRAKPoyK1sRIfeNI4/8IPBuYi6IcIQJPBRfnUBDCylYskvPh3FIsusVFtuZjH6L7fv99aLZBIAksrZNW+lEsNh9cgh6P5mKbs1EE/NxiXQj9CzBIACg4Cs2IIX1pArc5cEEQ3uDy/AIJiygyQ+oEUmFXb3Jwx+9fyD43EdgM4sTwuhkMbuJE+MYmqZZgIBDYxK9+/ALXF6DtQ8rgQs0Jz2p9414DSq2n/AuSX6RSpUqVKlXVl0H3saXRNtRUur9+8smnf2u0FbXUX6+A/vNBo82onSyfYsIr/9VoO2onq0D43422o4YSWmlbo82onSwf/88nX3/6d0Oj7aiROHdbm+7Bx//7QNfmvoAzdc6iAz5dmw78B6RtVlOjLaqmOJOb4MGLW7hgbcOQlgvhyRwd9t8JEnEpXHebWpmSM1isOTqAORVfOHIXblgtrRh5BNfl6KQapCFL2VrOzHOdToGLspQt4kxoeieua7Mq9Qy4XMRsbkpxRFDmumKPZztmk44kJquAd64IKfbfZhwuDbq289JlJYwkuiZbKFsI35kRoVIJ7b2ZeqQF81W3ZZl0zYT48NHjbV3Ve471+WefNUl3fHjjxtMn1R+wf/38/ff/rznmAY+e3rjxbLvq2X72Pqg5Fsv/wITWqmf7HAA/r362lcjy6MazL2qQ7Weff94sG49t2w9q0V/cDx64a5BtBcKDYQ1ak8mNYAiqfr7ly9TWZrC0Vb22LZAj1xSDoqWtDSZY1irXNifMHwCxzdrYEQNvuZAZpLuatc25c7NSC56HN9CPUH52MmNqq1ZLNVkLZt1ko6dB83ATbkO5M3BnFaZusEo8k4ml2D5PHYQbaGHLBOJzdhqTtfhmsYlsHdR5loodeKbtWIpcU64i7stJWFDVs7G6iwc5rvIhzFIqoBBH1o3RLVkWBNVKMjQpCZgGa90GD2iNkg3KUokX3Qp9g3dL6oIoA4i9WHZIKCNQWitrI+Up/uWXsm6CaVxZ+Znc5VSJu/ZejO/s7e3EZUx49OxJGQ2V++Gf//yiDJt1X339VY3XHLu3Ll++9VL6Pqz5nz5Rnt32tx988O1D5em/unLlynfKk1cg385l0DeS97kneM2vvJZ/+ACkfAVtegGEL2o7+Jfy4WPw4b+UNzviwzK2eWrvQxR/u7f3jcxf3/A9fvKonAHj4fff/1BG8rHvXnxX63HfNzUl++dF3LryArqpPIMbv/I36FB5E0hTWb3KokP1m7sVFQejIVfWoF8WoQmyN5U/p6iihNIN5VRzOYQWkr2lgV50i/MZTqd8iqycENakQvamRm3fGPK2Fd2K61kxYd6kHlgb4EbOWrDmN+gUbk4pJIT88hOa6r/TeLZzKFxIKSM86zR3fYeN4h3PqiTqKSEs2vE4XR2DqlQANynoLgoIpYJn/YKqqU0qtHG6kpPw0oRuyewN1f88oag4SQtAJau5JKFFJntDfRqq7FamodQHuYZSMVEWwlKHXY1Xuy9llvwIPXgu25KmXu7K/sE1y8N/y92Ov9x9JXe/Cnq9d+uW3K7G8ze338j8iMUreHxPxsbtZ7IfMcd3bl3ek1mtVkFkzX/rteR905vbt2//KP38rvyWAdkUeSbdTF/DevyyXAWfX/G9y7JrfkL4k3So+AYTvpXO/1/yX4QghHs1JSS7GnsyPelnIHwuffsV1NCedBNAP9x4+vSx9O0pePzWbmkrz6P47s5b2b7+/Odf5W6/3tmRAQTExw/lYumrtzu7tXUhIn83VU46Tn5E9JV8/lzF115WNzrfN3/L3EKvu9x4RD7XerXJCa1CGCzro4lTampCU25ibKl8htzEhAWLfq7ir9g2L+HpxZupwt7YrISGIot+pR/1FqpJCYt/EmyoxI3NSSj5bcUKgmpTEspsXVjKRmxGQrfcNl/ZPyPbhIRx+Y2FckfG7YZPPE8p/s3OW7ltCe6LX8r5Zn/JpUv9tXNLdknKfV/Wp9q+t/LZNUBTZM0vXevb+JsJvyjOTthC+LIallVLxCSZrSX3t+UTyu1UNUC7e5dvvZUODtwv337wfRlzm5c4u6Zqpcj3eve1rEXb/y4r/L8qkV3zibOgJvvxyWoLZgNN/fPM5xaZezfge+n1EicuLiwXtaGe7GVUtI5qehkKvsxd2XK4mcWdRqp856Y5VWyzzdQkP2BYFUms7c+zj9pU4iSXxBclqMqs+cvf1WhGyXa3i/Cbvwzybmr5cOP+8c3PcpO0X1+8kP0Etfn10+3bt3+Wvm39+sqVr+vwnZjayV3imwp/w79L8e91NKj6KuHDNvDhldZuptaf3vwoF0yev/i6tV2If/uT/P0LNXcrqpLf3Gt5qYStL5Ww9aUStr5UwtaXStj6uviE2y29/i0twz+ePXt8ob348OmNG0/L+K0RrSdMeKMGv3exeWR99vTpswuy8S2h7UePq//bT1U1TvFMKkO+i5NIpYUr6WLJEkenLhRN1YxKJ5czh+/wkW8/Qa4sp5D4UzEnL5BOuJn7cRnfO1/uvNm+yViod38kEweHCbA4dZBIJN8lfPv7KV8ydYTiyWQKJZKpVPIgtQ8n6YOj3xLJZAal9o8O0pnfj8CL8XeQMJl85zuCa6n95UbTFNNxCrgyy+gwifYTmczhMTpMofS79G/g3fQBSh3/kcFvR+l99O4wsZxa3ke+31EqhQ7w08nD+O9w5RAn3U8k9htNU0zJw2TyOOnDNicTaTiMH6US6dTRgS99lDqIpw/3kwC3fIwJE0B9tG8AGqiFAx+0W2jYPqiU5Xdwez/dnISJ5B/pwzi8H6R/O9z/M7mfOjxOHu4vw8nx4QE0vjTcSO8vLx/E9/9EyePUQeqPg/jRse+3PzNHicw+wB3Abbh2sHx40JQ9Mp3JkLCYyKQT6Uw8k0CZhC+TTmfgJQEvmXga2h9KLCfgLA7XEollfCOdQYk0CcDpDL4Nr4lMi33hT5Tv+CDRaBtUqVKl6rT+H3MWTajr+ZB0AAAAAElFTkSuQmCC)"
      ]
    },
    {
      "cell_type": "code",
      "metadata": {
        "colab": {
          "base_uri": "https://localhost:8080/"
        },
        "id": "r8FVPn_1hrdD",
        "outputId": "f77ad729-6f97-4fcd-fe71-fe601cd2d4a7"
      },
      "source": [
        "from sklearn.tree import DecisionTreeRegressor\n",
        "regressor = DecisionTreeRegressor(random_state = 0)\n",
        "regressor.fit(X, y)"
      ],
      "execution_count": null,
      "outputs": [
        {
          "output_type": "execute_result",
          "data": {
            "text/plain": [
              "DecisionTreeRegressor(ccp_alpha=0.0, criterion='mse', max_depth=None,\n",
              "                      max_features=None, max_leaf_nodes=None,\n",
              "                      min_impurity_decrease=0.0, min_impurity_split=None,\n",
              "                      min_samples_leaf=1, min_samples_split=2,\n",
              "                      min_weight_fraction_leaf=0.0, presort='deprecated',\n",
              "                      random_state=0, splitter='best')"
            ]
          },
          "metadata": {},
          "execution_count": 19
        }
      ]
    },
    {
      "cell_type": "code",
      "metadata": {
        "id": "0plV2i81h2jt"
      },
      "source": [
        "Y = df_cd.iloc[:, 3].values"
      ],
      "execution_count": null,
      "outputs": []
    },
    {
      "cell_type": "code",
      "metadata": {
        "colab": {
          "base_uri": "https://localhost:8080/"
        },
        "id": "SDJcxMH3imFO",
        "outputId": "a1e64092-133c-4f79-947d-397e1af15505"
      },
      "source": [
        "Y"
      ],
      "execution_count": null,
      "outputs": [
        {
          "output_type": "execute_result",
          "data": {
            "text/plain": [
              "array([1834,  236, 1593, ...,  147,   17,   32])"
            ]
          },
          "metadata": {},
          "execution_count": 21
        }
      ]
    },
    {
      "cell_type": "code",
      "metadata": {
        "colab": {
          "base_uri": "https://localhost:8080/"
        },
        "id": "qE_uydxViZCd",
        "outputId": "fc94602d-f2d6-4c11-8b87-97c7fc94793e"
      },
      "source": [
        "from sklearn.tree import DecisionTreeRegressor\n",
        "regressor1 = DecisionTreeRegressor(random_state = 0)\n",
        "regressor1.fit(X, Y)"
      ],
      "execution_count": null,
      "outputs": [
        {
          "output_type": "execute_result",
          "data": {
            "text/plain": [
              "DecisionTreeRegressor(ccp_alpha=0.0, criterion='mse', max_depth=None,\n",
              "                      max_features=None, max_leaf_nodes=None,\n",
              "                      min_impurity_decrease=0.0, min_impurity_split=None,\n",
              "                      min_samples_leaf=1, min_samples_split=2,\n",
              "                      min_weight_fraction_leaf=0.0, presort='deprecated',\n",
              "                      random_state=0, splitter='best')"
            ]
          },
          "metadata": {},
          "execution_count": 22
        }
      ]
    },
    {
      "cell_type": "code",
      "metadata": {
        "id": "Nncb89Riik6G",
        "colab": {
          "base_uri": "https://localhost:8080/"
        },
        "outputId": "1d7992c2-df92-4202-9e16-d8f402d67343"
      },
      "source": [
        "from sklearn.model_selection import cross_val_score\n",
        "print(cross_val_score(regressor1, X, Y, scoring=\"neg_root_mean_squared_error\", cv = 7))"
      ],
      "execution_count": null,
      "outputs": [
        {
          "output_type": "stream",
          "name": "stdout",
          "text": [
            "[-27626.28577293 -18393.47395721 -14467.12137611 -14074.21827986\n",
            " -14592.08664875  -9575.32558774  -6714.42498739]\n"
          ]
        }
      ]
    },
    {
      "cell_type": "code",
      "metadata": {
        "id": "F_JsgL1m-ZiV"
      },
      "source": [
        "mean_score = cross_val_score(regressor1, X, Y, scoring=\"neg_root_mean_squared_error\", cv = 7).mean()\n",
        "std_score = cross_val_score(regressor1, X, Y, scoring=\"neg_root_mean_squared_error\", cv = 7).std()"
      ],
      "execution_count": null,
      "outputs": []
    },
    {
      "cell_type": "markdown",
      "metadata": {
        "id": "UoKHxEQ89csS"
      },
      "source": [
        "**Expected number of views with genre Drama, Action and Comedy**"
      ]
    },
    {
      "cell_type": "code",
      "metadata": {
        "colab": {
          "base_uri": "https://localhost:8080/"
        },
        "id": "G9BVAxgZ5rlw",
        "outputId": "c12809f3-3062-458d-fb78-75e42110abdd"
      },
      "source": [
        "l=[]\n",
        "for x in s1:\n",
        "  if(len(x)<=2):\n",
        "    continue\n",
        "  if x=='Drama' or x=='Action' or x=='Comedy':\n",
        "    l.append(1)\n",
        "  else:\n",
        "    l.append(0)\n",
        "regressor1.predict(np.array([l]))"
      ],
      "execution_count": null,
      "outputs": [
        {
          "output_type": "execute_result",
          "data": {
            "text/plain": [
              "array([1418.31647635])"
            ]
          },
          "metadata": {},
          "execution_count": 98
        }
      ]
    },
    {
      "cell_type": "markdown",
      "metadata": {
        "id": "4HD15Gcp_MuO"
      },
      "source": [
        "**Expected number of views with genre News or Sport**"
      ]
    },
    {
      "cell_type": "code",
      "metadata": {
        "colab": {
          "base_uri": "https://localhost:8080/"
        },
        "id": "LD0W7cem9w7x",
        "outputId": "78c41119-fb3a-4e99-86ac-283eeb9b6e99"
      },
      "source": [
        "l=[]\n",
        "for x in s1:\n",
        "  if(len(x)<=2):\n",
        "    continue\n",
        "  if x=='News' or x=='Sport':\n",
        "    l.append(1)\n",
        "  else:\n",
        "    l.append(0)\n",
        "regressor1.predict(np.array([l]))"
      ],
      "execution_count": null,
      "outputs": [
        {
          "output_type": "execute_result",
          "data": {
            "text/plain": [
              "array([103.34146341])"
            ]
          },
          "metadata": {},
          "execution_count": 99
        }
      ]
    }
  ]
}